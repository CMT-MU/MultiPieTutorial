{
 "cells": [
  {
   "cell_type": "markdown",
   "metadata": {},
   "source": [
    "---\n",
    "title: 結晶場基底の活性多極子と行列要素\n",
    "date: 2024/2/3\n",
    "---"
   ]
  },
  {
   "cell_type": "code",
   "execution_count": 10,
   "metadata": {},
   "outputs": [
    {
     "name": "stdout",
     "output_type": "stream",
     "text": [
      "\n",
      " - Γ7,Γ8 (J = 5/2): (36 active atomic multipoles)\n"
     ]
    },
    {
     "data": {
      "text/latex": [
       "$\\displaystyle \\mathbb{Q}_{0}^{(a,A_{1g})} = \\begin{pmatrix} \\frac{\\sqrt{6}}{6} & 0 & 0 & 0 & 0 & 0 \\\\ 0 & \\frac{\\sqrt{6}}{6} & 0 & 0 & 0 & 0 \\\\ 0 & 0 & \\frac{\\sqrt{6}}{6} & 0 & 0 & 0 \\\\ 0 & 0 & 0 & \\frac{\\sqrt{6}}{6} & 0 & 0 \\\\ 0 & 0 & 0 & 0 & \\frac{\\sqrt{6}}{6} & 0 \\\\ 0 & 0 & 0 & 0 & 0 & \\frac{\\sqrt{6}}{6} \\end{pmatrix}$"
      ],
      "text/plain": [
       "<IPython.core.display.Math object>"
      ]
     },
     "metadata": {},
     "output_type": "display_data"
    },
    {
     "data": {
      "text/latex": [
       "$\\displaystyle \\mathbb{Q}_{4}^{(a,A_{1g})} = \\begin{pmatrix} - \\frac{\\sqrt{3}}{3} & 0 & 0 & 0 & 0 & 0 \\\\ 0 & - \\frac{\\sqrt{3}}{3} & 0 & 0 & 0 & 0 \\\\ 0 & 0 & \\frac{\\sqrt{3}}{6} & 0 & 0 & 0 \\\\ 0 & 0 & 0 & \\frac{\\sqrt{3}}{6} & 0 & 0 \\\\ 0 & 0 & 0 & 0 & \\frac{\\sqrt{3}}{6} & 0 \\\\ 0 & 0 & 0 & 0 & 0 & \\frac{\\sqrt{3}}{6} \\end{pmatrix}$"
      ],
      "text/plain": [
       "<IPython.core.display.Math object>"
      ]
     },
     "metadata": {},
     "output_type": "display_data"
    },
    {
     "data": {
      "text/latex": [
       "$\\displaystyle \\mathbb{Q}_{2,0}^{(a,E_{g})} = \\begin{pmatrix} 0 & 0 & - \\frac{\\sqrt{105}}{42} & 0 & 0 & 0 \\\\ 0 & 0 & 0 & - \\frac{\\sqrt{105}}{42} & 0 & 0 \\\\ - \\frac{\\sqrt{105}}{42} & 0 & - \\frac{2 \\sqrt{21}}{21} & 0 & 0 & 0 \\\\ 0 & - \\frac{\\sqrt{105}}{42} & 0 & - \\frac{2 \\sqrt{21}}{21} & 0 & 0 \\\\ 0 & 0 & 0 & 0 & \\frac{2 \\sqrt{21}}{21} & 0 \\\\ 0 & 0 & 0 & 0 & 0 & \\frac{2 \\sqrt{21}}{21} \\end{pmatrix}$"
      ],
      "text/plain": [
       "<IPython.core.display.Math object>"
      ]
     },
     "metadata": {},
     "output_type": "display_data"
    },
    {
     "data": {
      "text/latex": [
       "$\\displaystyle \\mathbb{Q}_{2,1}^{(a,E_{g})} = \\begin{pmatrix} 0 & 0 & 0 & 0 & \\frac{\\sqrt{105}}{42} & 0 \\\\ 0 & 0 & 0 & 0 & 0 & \\frac{\\sqrt{105}}{42} \\\\ 0 & 0 & 0 & 0 & - \\frac{2 \\sqrt{21}}{21} & 0 \\\\ 0 & 0 & 0 & 0 & 0 & - \\frac{2 \\sqrt{21}}{21} \\\\ \\frac{\\sqrt{105}}{42} & 0 & - \\frac{2 \\sqrt{21}}{21} & 0 & 0 & 0 \\\\ 0 & \\frac{\\sqrt{105}}{42} & 0 & - \\frac{2 \\sqrt{21}}{21} & 0 & 0 \\end{pmatrix}$"
      ],
      "text/plain": [
       "<IPython.core.display.Math object>"
      ]
     },
     "metadata": {},
     "output_type": "display_data"
    },
    {
     "data": {
      "text/latex": [
       "$\\displaystyle \\mathbb{Q}_{4,0}^{(a,E_{g})} = \\begin{pmatrix} 0 & 0 & \\frac{2 \\sqrt{21}}{21} & 0 & 0 & 0 \\\\ 0 & 0 & 0 & \\frac{2 \\sqrt{21}}{21} & 0 & 0 \\\\ \\frac{2 \\sqrt{21}}{21} & 0 & - \\frac{\\sqrt{105}}{42} & 0 & 0 & 0 \\\\ 0 & \\frac{2 \\sqrt{21}}{21} & 0 & - \\frac{\\sqrt{105}}{42} & 0 & 0 \\\\ 0 & 0 & 0 & 0 & \\frac{\\sqrt{105}}{42} & 0 \\\\ 0 & 0 & 0 & 0 & 0 & \\frac{\\sqrt{105}}{42} \\end{pmatrix}$"
      ],
      "text/plain": [
       "<IPython.core.display.Math object>"
      ]
     },
     "metadata": {},
     "output_type": "display_data"
    },
    {
     "data": {
      "text/latex": [
       "$\\displaystyle \\mathbb{Q}_{4,1}^{(a,E_{g})} = \\begin{pmatrix} 0 & 0 & 0 & 0 & - \\frac{2 \\sqrt{21}}{21} & 0 \\\\ 0 & 0 & 0 & 0 & 0 & - \\frac{2 \\sqrt{21}}{21} \\\\ 0 & 0 & 0 & 0 & - \\frac{\\sqrt{105}}{42} & 0 \\\\ 0 & 0 & 0 & 0 & 0 & - \\frac{\\sqrt{105}}{42} \\\\ - \\frac{2 \\sqrt{21}}{21} & 0 & - \\frac{\\sqrt{105}}{42} & 0 & 0 & 0 \\\\ 0 & - \\frac{2 \\sqrt{21}}{21} & 0 & - \\frac{\\sqrt{105}}{42} & 0 & 0 \\end{pmatrix}$"
      ],
      "text/plain": [
       "<IPython.core.display.Math object>"
      ]
     },
     "metadata": {},
     "output_type": "display_data"
    },
    {
     "data": {
      "text/latex": [
       "$\\displaystyle \\mathbb{Q}_{2,0}^{(a,T_{2g})} = \\begin{pmatrix} 0 & 0 & 0 & \\frac{\\sqrt{35} i}{14} & 0 & - \\frac{\\sqrt{105} i}{42} \\\\ 0 & 0 & \\frac{\\sqrt{35} i}{14} & 0 & - \\frac{\\sqrt{105} i}{42} & 0 \\\\ 0 & - \\frac{\\sqrt{35} i}{14} & 0 & 0 & 0 & \\frac{\\sqrt{21} i}{42} \\\\ - \\frac{\\sqrt{35} i}{14} & 0 & 0 & 0 & \\frac{\\sqrt{21} i}{42} & 0 \\\\ 0 & \\frac{\\sqrt{105} i}{42} & 0 & - \\frac{\\sqrt{21} i}{42} & 0 & 0 \\\\ \\frac{\\sqrt{105} i}{42} & 0 & - \\frac{\\sqrt{21} i}{42} & 0 & 0 & 0 \\end{pmatrix}$"
      ],
      "text/plain": [
       "<IPython.core.display.Math object>"
      ]
     },
     "metadata": {},
     "output_type": "display_data"
    },
    {
     "data": {
      "text/latex": [
       "$\\displaystyle \\mathbb{Q}_{2,1}^{(a,T_{2g})} = \\begin{pmatrix} 0 & 0 & 0 & - \\frac{\\sqrt{35}}{14} & 0 & - \\frac{\\sqrt{105}}{42} \\\\ 0 & 0 & \\frac{\\sqrt{35}}{14} & 0 & \\frac{\\sqrt{105}}{42} & 0 \\\\ 0 & \\frac{\\sqrt{35}}{14} & 0 & 0 & 0 & \\frac{\\sqrt{21}}{42} \\\\ - \\frac{\\sqrt{35}}{14} & 0 & 0 & 0 & - \\frac{\\sqrt{21}}{42} & 0 \\\\ 0 & \\frac{\\sqrt{105}}{42} & 0 & - \\frac{\\sqrt{21}}{42} & 0 & 0 \\\\ - \\frac{\\sqrt{105}}{42} & 0 & \\frac{\\sqrt{21}}{42} & 0 & 0 & 0 \\end{pmatrix}$"
      ],
      "text/plain": [
       "<IPython.core.display.Math object>"
      ]
     },
     "metadata": {},
     "output_type": "display_data"
    },
    {
     "data": {
      "text/latex": [
       "$\\displaystyle \\mathbb{Q}_{2,2}^{(a,T_{2g})} = \\begin{pmatrix} 0 & 0 & 0 & 0 & \\frac{\\sqrt{105} i}{21} & 0 \\\\ 0 & 0 & 0 & 0 & 0 & - \\frac{\\sqrt{105} i}{21} \\\\ 0 & 0 & 0 & 0 & \\frac{\\sqrt{21} i}{42} & 0 \\\\ 0 & 0 & 0 & 0 & 0 & - \\frac{\\sqrt{21} i}{42} \\\\ - \\frac{\\sqrt{105} i}{21} & 0 & - \\frac{\\sqrt{21} i}{42} & 0 & 0 & 0 \\\\ 0 & \\frac{\\sqrt{105} i}{21} & 0 & \\frac{\\sqrt{21} i}{42} & 0 & 0 \\end{pmatrix}$"
      ],
      "text/plain": [
       "<IPython.core.display.Math object>"
      ]
     },
     "metadata": {},
     "output_type": "display_data"
    },
    {
     "data": {
      "text/latex": [
       "$\\displaystyle \\mathbb{Q}_{4,0}^{(a,T_{2g})} = \\begin{pmatrix} 0 & 0 & 0 & \\frac{\\sqrt{7} i}{28} & 0 & - \\frac{\\sqrt{21} i}{84} \\\\ 0 & 0 & \\frac{\\sqrt{7} i}{28} & 0 & - \\frac{\\sqrt{21} i}{84} & 0 \\\\ 0 & - \\frac{\\sqrt{7} i}{28} & 0 & 0 & 0 & - \\frac{\\sqrt{105} i}{21} \\\\ - \\frac{\\sqrt{7} i}{28} & 0 & 0 & 0 & - \\frac{\\sqrt{105} i}{21} & 0 \\\\ 0 & \\frac{\\sqrt{21} i}{84} & 0 & \\frac{\\sqrt{105} i}{21} & 0 & 0 \\\\ \\frac{\\sqrt{21} i}{84} & 0 & \\frac{\\sqrt{105} i}{21} & 0 & 0 & 0 \\end{pmatrix}$"
      ],
      "text/plain": [
       "<IPython.core.display.Math object>"
      ]
     },
     "metadata": {},
     "output_type": "display_data"
    },
    {
     "data": {
      "text/latex": [
       "$\\displaystyle \\mathbb{Q}_{4,1}^{(a,T_{2g})} = \\begin{pmatrix} 0 & 0 & 0 & - \\frac{\\sqrt{7}}{28} & 0 & - \\frac{\\sqrt{21}}{84} \\\\ 0 & 0 & \\frac{\\sqrt{7}}{28} & 0 & \\frac{\\sqrt{21}}{84} & 0 \\\\ 0 & \\frac{\\sqrt{7}}{28} & 0 & 0 & 0 & - \\frac{\\sqrt{105}}{21} \\\\ - \\frac{\\sqrt{7}}{28} & 0 & 0 & 0 & \\frac{\\sqrt{105}}{21} & 0 \\\\ 0 & \\frac{\\sqrt{21}}{84} & 0 & \\frac{\\sqrt{105}}{21} & 0 & 0 \\\\ - \\frac{\\sqrt{21}}{84} & 0 & - \\frac{\\sqrt{105}}{21} & 0 & 0 & 0 \\end{pmatrix}$"
      ],
      "text/plain": [
       "<IPython.core.display.Math object>"
      ]
     },
     "metadata": {},
     "output_type": "display_data"
    },
    {
     "data": {
      "text/latex": [
       "$\\displaystyle \\mathbb{Q}_{4,2}^{(a,T_{2g})} = \\begin{pmatrix} 0 & 0 & 0 & 0 & \\frac{\\sqrt{21} i}{42} & 0 \\\\ 0 & 0 & 0 & 0 & 0 & - \\frac{\\sqrt{21} i}{42} \\\\ 0 & 0 & 0 & 0 & - \\frac{\\sqrt{105} i}{21} & 0 \\\\ 0 & 0 & 0 & 0 & 0 & \\frac{\\sqrt{105} i}{21} \\\\ - \\frac{\\sqrt{21} i}{42} & 0 & \\frac{\\sqrt{105} i}{21} & 0 & 0 & 0 \\\\ 0 & \\frac{\\sqrt{21} i}{42} & 0 & - \\frac{\\sqrt{105} i}{21} & 0 & 0 \\end{pmatrix}$"
      ],
      "text/plain": [
       "<IPython.core.display.Math object>"
      ]
     },
     "metadata": {},
     "output_type": "display_data"
    },
    {
     "data": {
      "text/latex": [
       "$\\displaystyle \\mathbb{Q}_{4,0}^{(a,T_{1g})} = \\begin{pmatrix} 0 & 0 & 0 & \\frac{i}{4} & 0 & \\frac{\\sqrt{3} i}{4} \\\\ 0 & 0 & \\frac{i}{4} & 0 & \\frac{\\sqrt{3} i}{4} & 0 \\\\ 0 & - \\frac{i}{4} & 0 & 0 & 0 & 0 \\\\ - \\frac{i}{4} & 0 & 0 & 0 & 0 & 0 \\\\ 0 & - \\frac{\\sqrt{3} i}{4} & 0 & 0 & 0 & 0 \\\\ - \\frac{\\sqrt{3} i}{4} & 0 & 0 & 0 & 0 & 0 \\end{pmatrix}$"
      ],
      "text/plain": [
       "<IPython.core.display.Math object>"
      ]
     },
     "metadata": {},
     "output_type": "display_data"
    },
    {
     "data": {
      "text/latex": [
       "$\\displaystyle \\mathbb{Q}_{4,1}^{(a,T_{1g})} = \\begin{pmatrix} 0 & 0 & 0 & \\frac{1}{4} & 0 & - \\frac{\\sqrt{3}}{4} \\\\ 0 & 0 & - \\frac{1}{4} & 0 & \\frac{\\sqrt{3}}{4} & 0 \\\\ 0 & - \\frac{1}{4} & 0 & 0 & 0 & 0 \\\\ \\frac{1}{4} & 0 & 0 & 0 & 0 & 0 \\\\ 0 & \\frac{\\sqrt{3}}{4} & 0 & 0 & 0 & 0 \\\\ - \\frac{\\sqrt{3}}{4} & 0 & 0 & 0 & 0 & 0 \\end{pmatrix}$"
      ],
      "text/plain": [
       "<IPython.core.display.Math object>"
      ]
     },
     "metadata": {},
     "output_type": "display_data"
    },
    {
     "data": {
      "text/latex": [
       "$\\displaystyle \\mathbb{Q}_{4,2}^{(a,T_{1g})} = \\begin{pmatrix} 0 & 0 & - \\frac{i}{2} & 0 & 0 & 0 \\\\ 0 & 0 & 0 & \\frac{i}{2} & 0 & 0 \\\\ \\frac{i}{2} & 0 & 0 & 0 & 0 & 0 \\\\ 0 & - \\frac{i}{2} & 0 & 0 & 0 & 0 \\\\ 0 & 0 & 0 & 0 & 0 & 0 \\\\ 0 & 0 & 0 & 0 & 0 & 0 \\end{pmatrix}$"
      ],
      "text/plain": [
       "<IPython.core.display.Math object>"
      ]
     },
     "metadata": {},
     "output_type": "display_data"
    },
    {
     "data": {
      "text/latex": [
       "$\\displaystyle \\mathbb{M}_{1,0}^{(a,T_{1g})} = \\begin{pmatrix} 0 & - \\frac{\\sqrt{70}}{42} & 0 & - \\frac{\\sqrt{14}}{21} & 0 & - \\frac{\\sqrt{42}}{21} \\\\ - \\frac{\\sqrt{70}}{42} & 0 & - \\frac{\\sqrt{14}}{21} & 0 & - \\frac{\\sqrt{42}}{21} & 0 \\\\ 0 & - \\frac{\\sqrt{14}}{21} & 0 & \\frac{\\sqrt{70}}{42} & 0 & \\frac{\\sqrt{210}}{105} \\\\ - \\frac{\\sqrt{14}}{21} & 0 & \\frac{\\sqrt{70}}{42} & 0 & \\frac{\\sqrt{210}}{105} & 0 \\\\ 0 & - \\frac{\\sqrt{42}}{21} & 0 & \\frac{\\sqrt{210}}{105} & 0 & \\frac{3 \\sqrt{70}}{70} \\\\ - \\frac{\\sqrt{42}}{21} & 0 & \\frac{\\sqrt{210}}{105} & 0 & \\frac{3 \\sqrt{70}}{70} & 0 \\end{pmatrix}$"
      ],
      "text/plain": [
       "<IPython.core.display.Math object>"
      ]
     },
     "metadata": {},
     "output_type": "display_data"
    },
    {
     "data": {
      "text/latex": [
       "$\\displaystyle \\mathbb{M}_{1,1}^{(a,T_{1g})} = \\begin{pmatrix} 0 & \\frac{\\sqrt{70} i}{42} & 0 & \\frac{\\sqrt{14} i}{21} & 0 & - \\frac{\\sqrt{42} i}{21} \\\\ - \\frac{\\sqrt{70} i}{42} & 0 & - \\frac{\\sqrt{14} i}{21} & 0 & \\frac{\\sqrt{42} i}{21} & 0 \\\\ 0 & \\frac{\\sqrt{14} i}{21} & 0 & - \\frac{\\sqrt{70} i}{42} & 0 & \\frac{\\sqrt{210} i}{105} \\\\ - \\frac{\\sqrt{14} i}{21} & 0 & \\frac{\\sqrt{70} i}{42} & 0 & - \\frac{\\sqrt{210} i}{105} & 0 \\\\ 0 & - \\frac{\\sqrt{42} i}{21} & 0 & \\frac{\\sqrt{210} i}{105} & 0 & - \\frac{3 \\sqrt{70} i}{70} \\\\ \\frac{\\sqrt{42} i}{21} & 0 & - \\frac{\\sqrt{210} i}{105} & 0 & \\frac{3 \\sqrt{70} i}{70} & 0 \\end{pmatrix}$"
      ],
      "text/plain": [
       "<IPython.core.display.Math object>"
      ]
     },
     "metadata": {},
     "output_type": "display_data"
    },
    {
     "data": {
      "text/latex": [
       "$\\displaystyle \\mathbb{M}_{1,2}^{(a,T_{1g})} = \\begin{pmatrix} - \\frac{\\sqrt{70}}{42} & 0 & \\frac{2 \\sqrt{14}}{21} & 0 & 0 & 0 \\\\ 0 & \\frac{\\sqrt{70}}{42} & 0 & - \\frac{2 \\sqrt{14}}{21} & 0 & 0 \\\\ \\frac{2 \\sqrt{14}}{21} & 0 & \\frac{11 \\sqrt{70}}{210} & 0 & 0 & 0 \\\\ 0 & - \\frac{2 \\sqrt{14}}{21} & 0 & - \\frac{11 \\sqrt{70}}{210} & 0 & 0 \\\\ 0 & 0 & 0 & 0 & \\frac{\\sqrt{70}}{70} & 0 \\\\ 0 & 0 & 0 & 0 & 0 & - \\frac{\\sqrt{70}}{70} \\end{pmatrix}$"
      ],
      "text/plain": [
       "<IPython.core.display.Math object>"
      ]
     },
     "metadata": {},
     "output_type": "display_data"
    },
    {
     "data": {
      "text/latex": [
       "$\\displaystyle \\mathbb{M}_{3,0}^{(a,T_{1g})} = \\begin{pmatrix} 0 & - \\frac{2 \\sqrt{5}}{9} & 0 & - \\frac{1}{36} & 0 & - \\frac{\\sqrt{3}}{36} \\\\ - \\frac{2 \\sqrt{5}}{9} & 0 & - \\frac{1}{36} & 0 & - \\frac{\\sqrt{3}}{36} & 0 \\\\ 0 & - \\frac{1}{36} & 0 & \\frac{\\sqrt{5}}{18} & 0 & - \\frac{7 \\sqrt{15}}{90} \\\\ - \\frac{1}{36} & 0 & \\frac{\\sqrt{5}}{18} & 0 & - \\frac{7 \\sqrt{15}}{90} & 0 \\\\ 0 & - \\frac{\\sqrt{3}}{36} & 0 & - \\frac{7 \\sqrt{15}}{90} & 0 & - \\frac{\\sqrt{5}}{10} \\\\ - \\frac{\\sqrt{3}}{36} & 0 & - \\frac{7 \\sqrt{15}}{90} & 0 & - \\frac{\\sqrt{5}}{10} & 0 \\end{pmatrix}$"
      ],
      "text/plain": [
       "<IPython.core.display.Math object>"
      ]
     },
     "metadata": {},
     "output_type": "display_data"
    },
    {
     "data": {
      "text/latex": [
       "$\\displaystyle \\mathbb{M}_{3,1}^{(a,T_{1g})} = \\begin{pmatrix} 0 & \\frac{2 \\sqrt{5} i}{9} & 0 & \\frac{i}{36} & 0 & - \\frac{\\sqrt{3} i}{36} \\\\ - \\frac{2 \\sqrt{5} i}{9} & 0 & - \\frac{i}{36} & 0 & \\frac{\\sqrt{3} i}{36} & 0 \\\\ 0 & \\frac{i}{36} & 0 & - \\frac{\\sqrt{5} i}{18} & 0 & - \\frac{7 \\sqrt{15} i}{90} \\\\ - \\frac{i}{36} & 0 & \\frac{\\sqrt{5} i}{18} & 0 & \\frac{7 \\sqrt{15} i}{90} & 0 \\\\ 0 & - \\frac{\\sqrt{3} i}{36} & 0 & - \\frac{7 \\sqrt{15} i}{90} & 0 & \\frac{\\sqrt{5} i}{10} \\\\ \\frac{\\sqrt{3} i}{36} & 0 & \\frac{7 \\sqrt{15} i}{90} & 0 & - \\frac{\\sqrt{5} i}{10} & 0 \\end{pmatrix}$"
      ],
      "text/plain": [
       "<IPython.core.display.Math object>"
      ]
     },
     "metadata": {},
     "output_type": "display_data"
    },
    {
     "data": {
      "text/latex": [
       "$\\displaystyle \\mathbb{M}_{3,2}^{(a,T_{1g})} = \\begin{pmatrix} - \\frac{2 \\sqrt{5}}{9} & 0 & \\frac{1}{18} & 0 & 0 & 0 \\\\ 0 & \\frac{2 \\sqrt{5}}{9} & 0 & - \\frac{1}{18} & 0 & 0 \\\\ \\frac{1}{18} & 0 & - \\frac{8 \\sqrt{5}}{45} & 0 & 0 & 0 \\\\ 0 & - \\frac{1}{18} & 0 & \\frac{8 \\sqrt{5}}{45} & 0 & 0 \\\\ 0 & 0 & 0 & 0 & \\frac{2 \\sqrt{5}}{15} & 0 \\\\ 0 & 0 & 0 & 0 & 0 & - \\frac{2 \\sqrt{5}}{15} \\end{pmatrix}$"
      ],
      "text/plain": [
       "<IPython.core.display.Math object>"
      ]
     },
     "metadata": {},
     "output_type": "display_data"
    },
    {
     "data": {
      "text/latex": [
       "$\\displaystyle \\mathbb{M}_{5,0}^{(a,T_{1g},1)} = \\begin{pmatrix} 0 & \\frac{13 \\sqrt{7}}{126} & 0 & \\frac{\\sqrt{35}}{126} & 0 & \\frac{\\sqrt{105}}{126} \\\\ \\frac{13 \\sqrt{7}}{126} & 0 & \\frac{\\sqrt{35}}{126} & 0 & \\frac{\\sqrt{105}}{126} & 0 \\\\ 0 & \\frac{\\sqrt{35}}{126} & 0 & \\frac{95 \\sqrt{7}}{504} & 0 & - \\frac{25 \\sqrt{21}}{504} \\\\ \\frac{\\sqrt{35}}{126} & 0 & \\frac{95 \\sqrt{7}}{504} & 0 & - \\frac{25 \\sqrt{21}}{504} & 0 \\\\ 0 & \\frac{\\sqrt{105}}{126} & 0 & - \\frac{25 \\sqrt{21}}{504} & 0 & \\frac{5 \\sqrt{7}}{56} \\\\ \\frac{\\sqrt{105}}{126} & 0 & - \\frac{25 \\sqrt{21}}{504} & 0 & \\frac{5 \\sqrt{7}}{56} & 0 \\end{pmatrix}$"
      ],
      "text/plain": [
       "<IPython.core.display.Math object>"
      ]
     },
     "metadata": {},
     "output_type": "display_data"
    },
    {
     "data": {
      "text/latex": [
       "$\\displaystyle \\mathbb{M}_{5,1}^{(a,T_{1g},1)} = \\begin{pmatrix} 0 & - \\frac{13 \\sqrt{7} i}{126} & 0 & - \\frac{\\sqrt{35} i}{126} & 0 & \\frac{\\sqrt{105} i}{126} \\\\ \\frac{13 \\sqrt{7} i}{126} & 0 & \\frac{\\sqrt{35} i}{126} & 0 & - \\frac{\\sqrt{105} i}{126} & 0 \\\\ 0 & - \\frac{\\sqrt{35} i}{126} & 0 & - \\frac{95 \\sqrt{7} i}{504} & 0 & - \\frac{25 \\sqrt{21} i}{504} \\\\ \\frac{\\sqrt{35} i}{126} & 0 & \\frac{95 \\sqrt{7} i}{504} & 0 & \\frac{25 \\sqrt{21} i}{504} & 0 \\\\ 0 & \\frac{\\sqrt{105} i}{126} & 0 & - \\frac{25 \\sqrt{21} i}{504} & 0 & - \\frac{5 \\sqrt{7} i}{56} \\\\ - \\frac{\\sqrt{105} i}{126} & 0 & \\frac{25 \\sqrt{21} i}{504} & 0 & \\frac{5 \\sqrt{7} i}{56} & 0 \\end{pmatrix}$"
      ],
      "text/plain": [
       "<IPython.core.display.Math object>"
      ]
     },
     "metadata": {},
     "output_type": "display_data"
    },
    {
     "data": {
      "text/latex": [
       "$\\displaystyle \\mathbb{M}_{5,2}^{(a,T_{1g},1)} = \\begin{pmatrix} \\frac{13 \\sqrt{7}}{126} & 0 & - \\frac{\\sqrt{35}}{63} & 0 & 0 & 0 \\\\ 0 & - \\frac{13 \\sqrt{7}}{126} & 0 & \\frac{\\sqrt{35}}{63} & 0 & 0 \\\\ - \\frac{\\sqrt{35}}{63} & 0 & \\frac{5 \\sqrt{7}}{126} & 0 & 0 & 0 \\\\ 0 & \\frac{\\sqrt{35}}{63} & 0 & - \\frac{5 \\sqrt{7}}{126} & 0 & 0 \\\\ 0 & 0 & 0 & 0 & \\frac{5 \\sqrt{7}}{21} & 0 \\\\ 0 & 0 & 0 & 0 & 0 & - \\frac{5 \\sqrt{7}}{21} \\end{pmatrix}$"
      ],
      "text/plain": [
       "<IPython.core.display.Math object>"
      ]
     },
     "metadata": {},
     "output_type": "display_data"
    },
    {
     "data": {
      "text/latex": [
       "$\\displaystyle \\mathbb{M}_{5,0}^{(a,T_{1g},2)} = \\begin{pmatrix} 0 & - \\frac{\\sqrt{5}}{6} & 0 & \\frac{1}{6} & 0 & \\frac{\\sqrt{3}}{6} \\\\ - \\frac{\\sqrt{5}}{6} & 0 & \\frac{1}{6} & 0 & \\frac{\\sqrt{3}}{6} & 0 \\\\ 0 & \\frac{1}{6} & 0 & \\frac{\\sqrt{5}}{24} & 0 & \\frac{\\sqrt{15}}{24} \\\\ \\frac{1}{6} & 0 & \\frac{\\sqrt{5}}{24} & 0 & \\frac{\\sqrt{15}}{24} & 0 \\\\ 0 & \\frac{\\sqrt{3}}{6} & 0 & \\frac{\\sqrt{15}}{24} & 0 & \\frac{\\sqrt{5}}{8} \\\\ \\frac{\\sqrt{3}}{6} & 0 & \\frac{\\sqrt{15}}{24} & 0 & \\frac{\\sqrt{5}}{8} & 0 \\end{pmatrix}$"
      ],
      "text/plain": [
       "<IPython.core.display.Math object>"
      ]
     },
     "metadata": {},
     "output_type": "display_data"
    },
    {
     "data": {
      "text/latex": [
       "$\\displaystyle \\mathbb{M}_{5,1}^{(a,T_{1g},2)} = \\begin{pmatrix} 0 & \\frac{\\sqrt{5} i}{6} & 0 & - \\frac{i}{6} & 0 & \\frac{\\sqrt{3} i}{6} \\\\ - \\frac{\\sqrt{5} i}{6} & 0 & \\frac{i}{6} & 0 & - \\frac{\\sqrt{3} i}{6} & 0 \\\\ 0 & - \\frac{i}{6} & 0 & - \\frac{\\sqrt{5} i}{24} & 0 & \\frac{\\sqrt{15} i}{24} \\\\ \\frac{i}{6} & 0 & \\frac{\\sqrt{5} i}{24} & 0 & - \\frac{\\sqrt{15} i}{24} & 0 \\\\ 0 & \\frac{\\sqrt{3} i}{6} & 0 & \\frac{\\sqrt{15} i}{24} & 0 & - \\frac{\\sqrt{5} i}{8} \\\\ - \\frac{\\sqrt{3} i}{6} & 0 & - \\frac{\\sqrt{15} i}{24} & 0 & \\frac{\\sqrt{5} i}{8} & 0 \\end{pmatrix}$"
      ],
      "text/plain": [
       "<IPython.core.display.Math object>"
      ]
     },
     "metadata": {},
     "output_type": "display_data"
    },
    {
     "data": {
      "text/latex": [
       "$\\displaystyle \\mathbb{M}_{5,2}^{(a,T_{1g},2)} = \\begin{pmatrix} - \\frac{\\sqrt{5}}{6} & 0 & - \\frac{1}{3} & 0 & 0 & 0 \\\\ 0 & \\frac{\\sqrt{5}}{6} & 0 & \\frac{1}{3} & 0 & 0 \\\\ - \\frac{1}{3} & 0 & \\frac{\\sqrt{5}}{6} & 0 & 0 & 0 \\\\ 0 & \\frac{1}{3} & 0 & - \\frac{\\sqrt{5}}{6} & 0 & 0 \\\\ 0 & 0 & 0 & 0 & 0 & 0 \\\\ 0 & 0 & 0 & 0 & 0 & 0 \\end{pmatrix}$"
      ],
      "text/plain": [
       "<IPython.core.display.Math object>"
      ]
     },
     "metadata": {},
     "output_type": "display_data"
    },
    {
     "data": {
      "text/latex": [
       "$\\displaystyle \\mathbb{M}_{3}^{(a,A_{2g})} = \\begin{pmatrix} 0 & 0 & 0 & 0 & 0 & 0 \\\\ 0 & 0 & 0 & 0 & 0 & 0 \\\\ 0 & 0 & 0 & 0 & \\frac{i}{2} & 0 \\\\ 0 & 0 & 0 & 0 & 0 & \\frac{i}{2} \\\\ 0 & 0 & - \\frac{i}{2} & 0 & 0 & 0 \\\\ 0 & 0 & 0 & - \\frac{i}{2} & 0 & 0 \\end{pmatrix}$"
      ],
      "text/plain": [
       "<IPython.core.display.Math object>"
      ]
     },
     "metadata": {},
     "output_type": "display_data"
    },
    {
     "data": {
      "text/latex": [
       "$\\displaystyle \\mathbb{M}_{3,0}^{(a,T_{2g})} = \\begin{pmatrix} 0 & 0 & 0 & - \\frac{\\sqrt{15}}{12} & 0 & \\frac{\\sqrt{5}}{12} \\\\ 0 & 0 & - \\frac{\\sqrt{15}}{12} & 0 & \\frac{\\sqrt{5}}{12} & 0 \\\\ 0 & - \\frac{\\sqrt{15}}{12} & 0 & \\frac{\\sqrt{3}}{6} & 0 & \\frac{1}{6} \\\\ - \\frac{\\sqrt{15}}{12} & 0 & \\frac{\\sqrt{3}}{6} & 0 & \\frac{1}{6} & 0 \\\\ 0 & \\frac{\\sqrt{5}}{12} & 0 & \\frac{1}{6} & 0 & - \\frac{\\sqrt{3}}{6} \\\\ \\frac{\\sqrt{5}}{12} & 0 & \\frac{1}{6} & 0 & - \\frac{\\sqrt{3}}{6} & 0 \\end{pmatrix}$"
      ],
      "text/plain": [
       "<IPython.core.display.Math object>"
      ]
     },
     "metadata": {},
     "output_type": "display_data"
    },
    {
     "data": {
      "text/latex": [
       "$\\displaystyle \\mathbb{M}_{3,1}^{(a,T_{2g})} = \\begin{pmatrix} 0 & 0 & 0 & - \\frac{\\sqrt{15} i}{12} & 0 & - \\frac{\\sqrt{5} i}{12} \\\\ 0 & 0 & \\frac{\\sqrt{15} i}{12} & 0 & \\frac{\\sqrt{5} i}{12} & 0 \\\\ 0 & - \\frac{\\sqrt{15} i}{12} & 0 & \\frac{\\sqrt{3} i}{6} & 0 & - \\frac{i}{6} \\\\ \\frac{\\sqrt{15} i}{12} & 0 & - \\frac{\\sqrt{3} i}{6} & 0 & \\frac{i}{6} & 0 \\\\ 0 & - \\frac{\\sqrt{5} i}{12} & 0 & - \\frac{i}{6} & 0 & - \\frac{\\sqrt{3} i}{6} \\\\ \\frac{\\sqrt{5} i}{12} & 0 & \\frac{i}{6} & 0 & \\frac{\\sqrt{3} i}{6} & 0 \\end{pmatrix}$"
      ],
      "text/plain": [
       "<IPython.core.display.Math object>"
      ]
     },
     "metadata": {},
     "output_type": "display_data"
    },
    {
     "data": {
      "text/latex": [
       "$\\displaystyle \\mathbb{M}_{3,2}^{(a,T_{2g})} = \\begin{pmatrix} 0 & 0 & 0 & 0 & - \\frac{\\sqrt{5}}{6} & 0 \\\\ 0 & 0 & 0 & 0 & 0 & \\frac{\\sqrt{5}}{6} \\\\ 0 & 0 & 0 & 0 & - \\frac{1}{3} & 0 \\\\ 0 & 0 & 0 & 0 & 0 & \\frac{1}{3} \\\\ - \\frac{\\sqrt{5}}{6} & 0 & - \\frac{1}{3} & 0 & 0 & 0 \\\\ 0 & \\frac{\\sqrt{5}}{6} & 0 & \\frac{1}{3} & 0 & 0 \\end{pmatrix}$"
      ],
      "text/plain": [
       "<IPython.core.display.Math object>"
      ]
     },
     "metadata": {},
     "output_type": "display_data"
    },
    {
     "data": {
      "text/latex": [
       "$\\displaystyle \\mathbb{M}_{5,0}^{(a,T_{2g})} = \\begin{pmatrix} 0 & 0 & 0 & - \\frac{\\sqrt{3}}{6} & 0 & \\frac{1}{6} \\\\ 0 & 0 & - \\frac{\\sqrt{3}}{6} & 0 & \\frac{1}{6} & 0 \\\\ 0 & - \\frac{\\sqrt{3}}{6} & 0 & - \\frac{\\sqrt{15}}{12} & 0 & - \\frac{\\sqrt{5}}{12} \\\\ - \\frac{\\sqrt{3}}{6} & 0 & - \\frac{\\sqrt{15}}{12} & 0 & - \\frac{\\sqrt{5}}{12} & 0 \\\\ 0 & \\frac{1}{6} & 0 & - \\frac{\\sqrt{5}}{12} & 0 & \\frac{\\sqrt{15}}{12} \\\\ \\frac{1}{6} & 0 & - \\frac{\\sqrt{5}}{12} & 0 & \\frac{\\sqrt{15}}{12} & 0 \\end{pmatrix}$"
      ],
      "text/plain": [
       "<IPython.core.display.Math object>"
      ]
     },
     "metadata": {},
     "output_type": "display_data"
    },
    {
     "data": {
      "text/latex": [
       "$\\displaystyle \\mathbb{M}_{5,1}^{(a,T_{2g})} = \\begin{pmatrix} 0 & 0 & 0 & - \\frac{\\sqrt{3} i}{6} & 0 & - \\frac{i}{6} \\\\ 0 & 0 & \\frac{\\sqrt{3} i}{6} & 0 & \\frac{i}{6} & 0 \\\\ 0 & - \\frac{\\sqrt{3} i}{6} & 0 & - \\frac{\\sqrt{15} i}{12} & 0 & \\frac{\\sqrt{5} i}{12} \\\\ \\frac{\\sqrt{3} i}{6} & 0 & \\frac{\\sqrt{15} i}{12} & 0 & - \\frac{\\sqrt{5} i}{12} & 0 \\\\ 0 & - \\frac{i}{6} & 0 & \\frac{\\sqrt{5} i}{12} & 0 & \\frac{\\sqrt{15} i}{12} \\\\ \\frac{i}{6} & 0 & - \\frac{\\sqrt{5} i}{12} & 0 & - \\frac{\\sqrt{15} i}{12} & 0 \\end{pmatrix}$"
      ],
      "text/plain": [
       "<IPython.core.display.Math object>"
      ]
     },
     "metadata": {},
     "output_type": "display_data"
    },
    {
     "data": {
      "text/latex": [
       "$\\displaystyle \\mathbb{M}_{5,2}^{(a,T_{2g})} = \\begin{pmatrix} 0 & 0 & 0 & 0 & - \\frac{1}{3} & 0 \\\\ 0 & 0 & 0 & 0 & 0 & \\frac{1}{3} \\\\ 0 & 0 & 0 & 0 & \\frac{\\sqrt{5}}{6} & 0 \\\\ 0 & 0 & 0 & 0 & 0 & - \\frac{\\sqrt{5}}{6} \\\\ - \\frac{1}{3} & 0 & \\frac{\\sqrt{5}}{6} & 0 & 0 & 0 \\\\ 0 & \\frac{1}{3} & 0 & - \\frac{\\sqrt{5}}{6} & 0 & 0 \\end{pmatrix}$"
      ],
      "text/plain": [
       "<IPython.core.display.Math object>"
      ]
     },
     "metadata": {},
     "output_type": "display_data"
    },
    {
     "data": {
      "text/latex": [
       "$\\displaystyle \\mathbb{M}_{5,0}^{(a,E_{g})} = \\begin{pmatrix} 0 & 0 & - \\frac{i}{2} & 0 & 0 & 0 \\\\ 0 & 0 & 0 & - \\frac{i}{2} & 0 & 0 \\\\ \\frac{i}{2} & 0 & 0 & 0 & 0 & 0 \\\\ 0 & \\frac{i}{2} & 0 & 0 & 0 & 0 \\\\ 0 & 0 & 0 & 0 & 0 & 0 \\\\ 0 & 0 & 0 & 0 & 0 & 0 \\end{pmatrix}$"
      ],
      "text/plain": [
       "<IPython.core.display.Math object>"
      ]
     },
     "metadata": {},
     "output_type": "display_data"
    },
    {
     "data": {
      "text/latex": [
       "$\\displaystyle \\mathbb{M}_{5,1}^{(a,E_{g})} = \\begin{pmatrix} 0 & 0 & 0 & 0 & \\frac{i}{2} & 0 \\\\ 0 & 0 & 0 & 0 & 0 & \\frac{i}{2} \\\\ 0 & 0 & 0 & 0 & 0 & 0 \\\\ 0 & 0 & 0 & 0 & 0 & 0 \\\\ - \\frac{i}{2} & 0 & 0 & 0 & 0 & 0 \\\\ 0 & - \\frac{i}{2} & 0 & 0 & 0 & 0 \\end{pmatrix}$"
      ],
      "text/plain": [
       "<IPython.core.display.Math object>"
      ]
     },
     "metadata": {},
     "output_type": "display_data"
    }
   ],
   "source": [
    "from IPython.display import display, Math\n",
    "from multipie.group.point_group import PointGroup\n",
    "from gcoreutils.nsarray import NSArray\n",
    "\n",
    "\n",
    "# ==================================================\n",
    "def multipole_cef():\n",
    "    pg = PointGroup(\"Oh\")\n",
    "    bra_list = ket_list = [\n",
    "        \"(5/2,5/2,3)\",\n",
    "        \"(5/2,3/2,3)\",\n",
    "        \"(5/2,1/2,3)\",\n",
    "        \"(5/2,-1/2,3)\",\n",
    "        \"(5/2,-3/2,3)\",\n",
    "        \"(5/2,-5/2,3)\",\n",
    "    ]\n",
    "\n",
    "    # <gamma|m> (G7,G8|+5/2,+3/2,+1/2,-1/2,-3/2,-5/2).\n",
    "    U = \"[[1/sqrt(6),0,sqrt(5/6),0,0,0],[0,-sqrt(5/6),0,1/sqrt(6),0,0],[0,0,0,0,1,0],[0,0,0,0,0,1],[-sqrt(5/6),0,1/sqrt(6),0,0,0],[0, 1/sqrt(6),0,sqrt(5/6),0,0]]\"\n",
    "    U = NSArray(U)\n",
    "\n",
    "    G7 = U[:, :2]\n",
    "    G8 = U[:, 2:]\n",
    "\n",
    "    atomic_samb = pg.atomic_samb(bra_list, ket_list, spinful=True, u_matrix=[G7,G8])\n",
    "    print(f\"\\n - Γ7,Γ8 (J = 5/2): ({len(atomic_samb)} active atomic multipoles)\")\n",
    "    for tag, mat in atomic_samb.items():\n",
    "        display(Math(f\"{tag.latex()} = {mat.latex()}\"))\n",
    "\n",
    "\n",
    "# ================================================== main\n",
    "multipole_cef()\n"
   ]
  },
  {
   "cell_type": "markdown",
   "metadata": {},
   "source": []
  }
 ],
 "metadata": {
  "kernelspec": {
   "display_name": "Python 3",
   "language": "python",
   "name": "python3"
  },
  "language_info": {
   "codemirror_mode": {
    "name": "ipython",
    "version": 3
   },
   "file_extension": ".py",
   "mimetype": "text/x-python",
   "name": "python",
   "nbconvert_exporter": "python",
   "pygments_lexer": "ipython3",
   "version": "3.11.6"
  }
 },
 "nbformat": 4,
 "nbformat_minor": 2
}
