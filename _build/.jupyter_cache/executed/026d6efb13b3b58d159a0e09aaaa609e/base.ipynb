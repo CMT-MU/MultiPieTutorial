{
 "cells": [
  {
   "cell_type": "code",
   "execution_count": 1,
   "metadata": {},
   "outputs": [
    {
     "name": "stdout",
     "output_type": "stream",
     "text": [
      "=== (0)Γ7, (1)Γ8 in (j=5/2, l=3) ===\n",
      "--- (0, 0): (4 active atomic multipoles) ---\n"
     ]
    },
    {
     "data": {
      "text/latex": [
       "$\\displaystyle \\mathbb{Q}_{0}^{(a,A_{1g})} = \\begin{pmatrix} \\frac{\\sqrt{2}}{2} & 0 & 0 & 0 & 0 & 0 \\\\ 0 & \\frac{\\sqrt{2}}{2} & 0 & 0 & 0 & 0 \\\\ 0 & 0 & 0 & 0 & 0 & 0 \\\\ 0 & 0 & 0 & 0 & 0 & 0 \\\\ 0 & 0 & 0 & 0 & 0 & 0 \\\\ 0 & 0 & 0 & 0 & 0 & 0 \\end{pmatrix}$"
      ],
      "text/plain": [
       "<IPython.core.display.Math object>"
      ]
     },
     "metadata": {},
     "output_type": "display_data"
    },
    {
     "data": {
      "text/latex": [
       "$\\displaystyle \\mathbb{M}_{1,0}^{(a,T_{1g})} = \\begin{pmatrix} 0 & - \\frac{\\sqrt{2}}{2} & 0 & 0 & 0 & 0 \\\\ - \\frac{\\sqrt{2}}{2} & 0 & 0 & 0 & 0 & 0 \\\\ 0 & 0 & 0 & 0 & 0 & 0 \\\\ 0 & 0 & 0 & 0 & 0 & 0 \\\\ 0 & 0 & 0 & 0 & 0 & 0 \\\\ 0 & 0 & 0 & 0 & 0 & 0 \\end{pmatrix}$"
      ],
      "text/plain": [
       "<IPython.core.display.Math object>"
      ]
     },
     "metadata": {},
     "output_type": "display_data"
    },
    {
     "data": {
      "text/latex": [
       "$\\displaystyle \\mathbb{M}_{1,1}^{(a,T_{1g})} = \\begin{pmatrix} 0 & - \\frac{\\sqrt{2} i}{2} & 0 & 0 & 0 & 0 \\\\ \\frac{\\sqrt{2} i}{2} & 0 & 0 & 0 & 0 & 0 \\\\ 0 & 0 & 0 & 0 & 0 & 0 \\\\ 0 & 0 & 0 & 0 & 0 & 0 \\\\ 0 & 0 & 0 & 0 & 0 & 0 \\\\ 0 & 0 & 0 & 0 & 0 & 0 \\end{pmatrix}$"
      ],
      "text/plain": [
       "<IPython.core.display.Math object>"
      ]
     },
     "metadata": {},
     "output_type": "display_data"
    },
    {
     "data": {
      "text/latex": [
       "$\\displaystyle \\mathbb{M}_{1,2}^{(a,T_{1g})} = \\begin{pmatrix} \\frac{\\sqrt{2}}{2} & 0 & 0 & 0 & 0 & 0 \\\\ 0 & - \\frac{\\sqrt{2}}{2} & 0 & 0 & 0 & 0 \\\\ 0 & 0 & 0 & 0 & 0 & 0 \\\\ 0 & 0 & 0 & 0 & 0 & 0 \\\\ 0 & 0 & 0 & 0 & 0 & 0 \\\\ 0 & 0 & 0 & 0 & 0 & 0 \\end{pmatrix}$"
      ],
      "text/plain": [
       "<IPython.core.display.Math object>"
      ]
     },
     "metadata": {},
     "output_type": "display_data"
    },
    {
     "name": "stdout",
     "output_type": "stream",
     "text": [
      "--- (0, 1): (16 active atomic multipoles) ---\n"
     ]
    },
    {
     "data": {
      "text/latex": [
       "$\\displaystyle \\mathbb{Q}_{2,0}^{(a,E_{g})} = \\begin{pmatrix} 0 & 0 & 0 & - \\frac{1}{2} & 0 & 0 \\\\ 0 & 0 & - \\frac{1}{2} & 0 & 0 & 0 \\\\ 0 & - \\frac{1}{2} & 0 & 0 & 0 & 0 \\\\ - \\frac{1}{2} & 0 & 0 & 0 & 0 & 0 \\\\ 0 & 0 & 0 & 0 & 0 & 0 \\\\ 0 & 0 & 0 & 0 & 0 & 0 \\end{pmatrix}$"
      ],
      "text/plain": [
       "<IPython.core.display.Math object>"
      ]
     },
     "metadata": {},
     "output_type": "display_data"
    },
    {
     "data": {
      "text/latex": [
       "$\\displaystyle \\mathbb{Q}_{2,1}^{(a,E_{g})} = \\begin{pmatrix} 0 & 0 & 0 & 0 & 0 & \\frac{1}{2} \\\\ 0 & 0 & 0 & 0 & \\frac{1}{2} & 0 \\\\ 0 & 0 & 0 & 0 & 0 & 0 \\\\ 0 & 0 & 0 & 0 & 0 & 0 \\\\ 0 & \\frac{1}{2} & 0 & 0 & 0 & 0 \\\\ \\frac{1}{2} & 0 & 0 & 0 & 0 & 0 \\end{pmatrix}$"
      ],
      "text/plain": [
       "<IPython.core.display.Math object>"
      ]
     },
     "metadata": {},
     "output_type": "display_data"
    },
    {
     "data": {
      "text/latex": [
       "$\\displaystyle \\mathbb{Q}_{2,0}^{(a,T_{2g})} = \\begin{pmatrix} 0 & 0 & \\frac{\\sqrt{3} i}{4} & 0 & - \\frac{i}{4} & 0 \\\\ 0 & 0 & 0 & \\frac{\\sqrt{3} i}{4} & 0 & - \\frac{i}{4} \\\\ - \\frac{\\sqrt{3} i}{4} & 0 & 0 & 0 & 0 & 0 \\\\ 0 & - \\frac{\\sqrt{3} i}{4} & 0 & 0 & 0 & 0 \\\\ \\frac{i}{4} & 0 & 0 & 0 & 0 & 0 \\\\ 0 & \\frac{i}{4} & 0 & 0 & 0 & 0 \\end{pmatrix}$"
      ],
      "text/plain": [
       "<IPython.core.display.Math object>"
      ]
     },
     "metadata": {},
     "output_type": "display_data"
    },
    {
     "data": {
      "text/latex": [
       "$\\displaystyle \\mathbb{Q}_{2,1}^{(a,T_{2g})} = \\begin{pmatrix} 0 & 0 & \\frac{\\sqrt{3}}{4} & 0 & \\frac{1}{4} & 0 \\\\ 0 & 0 & 0 & - \\frac{\\sqrt{3}}{4} & 0 & - \\frac{1}{4} \\\\ \\frac{\\sqrt{3}}{4} & 0 & 0 & 0 & 0 & 0 \\\\ 0 & - \\frac{\\sqrt{3}}{4} & 0 & 0 & 0 & 0 \\\\ \\frac{1}{4} & 0 & 0 & 0 & 0 & 0 \\\\ 0 & - \\frac{1}{4} & 0 & 0 & 0 & 0 \\end{pmatrix}$"
      ],
      "text/plain": [
       "<IPython.core.display.Math object>"
      ]
     },
     "metadata": {},
     "output_type": "display_data"
    },
    {
     "data": {
      "text/latex": [
       "$\\displaystyle \\mathbb{Q}_{2,2}^{(a,T_{2g})} = \\begin{pmatrix} 0 & 0 & 0 & 0 & 0 & - \\frac{i}{2} \\\\ 0 & 0 & 0 & 0 & \\frac{i}{2} & 0 \\\\ 0 & 0 & 0 & 0 & 0 & 0 \\\\ 0 & 0 & 0 & 0 & 0 & 0 \\\\ 0 & - \\frac{i}{2} & 0 & 0 & 0 & 0 \\\\ \\frac{i}{2} & 0 & 0 & 0 & 0 & 0 \\end{pmatrix}$"
      ],
      "text/plain": [
       "<IPython.core.display.Math object>"
      ]
     },
     "metadata": {},
     "output_type": "display_data"
    },
    {
     "data": {
      "text/latex": [
       "$\\displaystyle \\mathbb{Q}_{4,0}^{(a,T_{1g})} = \\begin{pmatrix} 0 & 0 & \\frac{i}{4} & 0 & \\frac{\\sqrt{3} i}{4} & 0 \\\\ 0 & 0 & 0 & \\frac{i}{4} & 0 & \\frac{\\sqrt{3} i}{4} \\\\ - \\frac{i}{4} & 0 & 0 & 0 & 0 & 0 \\\\ 0 & - \\frac{i}{4} & 0 & 0 & 0 & 0 \\\\ - \\frac{\\sqrt{3} i}{4} & 0 & 0 & 0 & 0 & 0 \\\\ 0 & - \\frac{\\sqrt{3} i}{4} & 0 & 0 & 0 & 0 \\end{pmatrix}$"
      ],
      "text/plain": [
       "<IPython.core.display.Math object>"
      ]
     },
     "metadata": {},
     "output_type": "display_data"
    },
    {
     "data": {
      "text/latex": [
       "$\\displaystyle \\mathbb{Q}_{4,1}^{(a,T_{1g})} = \\begin{pmatrix} 0 & 0 & - \\frac{1}{4} & 0 & \\frac{\\sqrt{3}}{4} & 0 \\\\ 0 & 0 & 0 & \\frac{1}{4} & 0 & - \\frac{\\sqrt{3}}{4} \\\\ - \\frac{1}{4} & 0 & 0 & 0 & 0 & 0 \\\\ 0 & \\frac{1}{4} & 0 & 0 & 0 & 0 \\\\ \\frac{\\sqrt{3}}{4} & 0 & 0 & 0 & 0 & 0 \\\\ 0 & - \\frac{\\sqrt{3}}{4} & 0 & 0 & 0 & 0 \\end{pmatrix}$"
      ],
      "text/plain": [
       "<IPython.core.display.Math object>"
      ]
     },
     "metadata": {},
     "output_type": "display_data"
    },
    {
     "data": {
      "text/latex": [
       "$\\displaystyle \\mathbb{Q}_{4,2}^{(a,T_{1g})} = \\begin{pmatrix} 0 & 0 & 0 & \\frac{i}{2} & 0 & 0 \\\\ 0 & 0 & - \\frac{i}{2} & 0 & 0 & 0 \\\\ 0 & \\frac{i}{2} & 0 & 0 & 0 & 0 \\\\ - \\frac{i}{2} & 0 & 0 & 0 & 0 & 0 \\\\ 0 & 0 & 0 & 0 & 0 & 0 \\\\ 0 & 0 & 0 & 0 & 0 & 0 \\end{pmatrix}$"
      ],
      "text/plain": [
       "<IPython.core.display.Math object>"
      ]
     },
     "metadata": {},
     "output_type": "display_data"
    },
    {
     "data": {
      "text/latex": [
       "$\\displaystyle \\mathbb{M}_{1,0}^{(a,T_{1g})} = \\begin{pmatrix} 0 & 0 & - \\frac{1}{4} & 0 & - \\frac{\\sqrt{3}}{4} & 0 \\\\ 0 & 0 & 0 & - \\frac{1}{4} & 0 & - \\frac{\\sqrt{3}}{4} \\\\ - \\frac{1}{4} & 0 & 0 & 0 & 0 & 0 \\\\ 0 & - \\frac{1}{4} & 0 & 0 & 0 & 0 \\\\ - \\frac{\\sqrt{3}}{4} & 0 & 0 & 0 & 0 & 0 \\\\ 0 & - \\frac{\\sqrt{3}}{4} & 0 & 0 & 0 & 0 \\end{pmatrix}$"
      ],
      "text/plain": [
       "<IPython.core.display.Math object>"
      ]
     },
     "metadata": {},
     "output_type": "display_data"
    },
    {
     "data": {
      "text/latex": [
       "$\\displaystyle \\mathbb{M}_{1,1}^{(a,T_{1g})} = \\begin{pmatrix} 0 & 0 & - \\frac{i}{4} & 0 & \\frac{\\sqrt{3} i}{4} & 0 \\\\ 0 & 0 & 0 & \\frac{i}{4} & 0 & - \\frac{\\sqrt{3} i}{4} \\\\ \\frac{i}{4} & 0 & 0 & 0 & 0 & 0 \\\\ 0 & - \\frac{i}{4} & 0 & 0 & 0 & 0 \\\\ - \\frac{\\sqrt{3} i}{4} & 0 & 0 & 0 & 0 & 0 \\\\ 0 & \\frac{\\sqrt{3} i}{4} & 0 & 0 & 0 & 0 \\end{pmatrix}$"
      ],
      "text/plain": [
       "<IPython.core.display.Math object>"
      ]
     },
     "metadata": {},
     "output_type": "display_data"
    },
    {
     "data": {
      "text/latex": [
       "$\\displaystyle \\mathbb{M}_{1,2}^{(a,T_{1g})} = \\begin{pmatrix} 0 & 0 & 0 & - \\frac{1}{2} & 0 & 0 \\\\ 0 & 0 & \\frac{1}{2} & 0 & 0 & 0 \\\\ 0 & \\frac{1}{2} & 0 & 0 & 0 & 0 \\\\ - \\frac{1}{2} & 0 & 0 & 0 & 0 & 0 \\\\ 0 & 0 & 0 & 0 & 0 & 0 \\\\ 0 & 0 & 0 & 0 & 0 & 0 \\end{pmatrix}$"
      ],
      "text/plain": [
       "<IPython.core.display.Math object>"
      ]
     },
     "metadata": {},
     "output_type": "display_data"
    },
    {
     "data": {
      "text/latex": [
       "$\\displaystyle \\mathbb{M}_{3,0}^{(a,T_{2g})} = \\begin{pmatrix} 0 & 0 & - \\frac{\\sqrt{3}}{4} & 0 & \\frac{1}{4} & 0 \\\\ 0 & 0 & 0 & - \\frac{\\sqrt{3}}{4} & 0 & \\frac{1}{4} \\\\ - \\frac{\\sqrt{3}}{4} & 0 & 0 & 0 & 0 & 0 \\\\ 0 & - \\frac{\\sqrt{3}}{4} & 0 & 0 & 0 & 0 \\\\ \\frac{1}{4} & 0 & 0 & 0 & 0 & 0 \\\\ 0 & \\frac{1}{4} & 0 & 0 & 0 & 0 \\end{pmatrix}$"
      ],
      "text/plain": [
       "<IPython.core.display.Math object>"
      ]
     },
     "metadata": {},
     "output_type": "display_data"
    },
    {
     "data": {
      "text/latex": [
       "$\\displaystyle \\mathbb{M}_{3,1}^{(a,T_{2g})} = \\begin{pmatrix} 0 & 0 & \\frac{\\sqrt{3} i}{4} & 0 & \\frac{i}{4} & 0 \\\\ 0 & 0 & 0 & - \\frac{\\sqrt{3} i}{4} & 0 & - \\frac{i}{4} \\\\ - \\frac{\\sqrt{3} i}{4} & 0 & 0 & 0 & 0 & 0 \\\\ 0 & \\frac{\\sqrt{3} i}{4} & 0 & 0 & 0 & 0 \\\\ - \\frac{i}{4} & 0 & 0 & 0 & 0 & 0 \\\\ 0 & \\frac{i}{4} & 0 & 0 & 0 & 0 \\end{pmatrix}$"
      ],
      "text/plain": [
       "<IPython.core.display.Math object>"
      ]
     },
     "metadata": {},
     "output_type": "display_data"
    },
    {
     "data": {
      "text/latex": [
       "$\\displaystyle \\mathbb{M}_{3,2}^{(a,T_{2g})} = \\begin{pmatrix} 0 & 0 & 0 & 0 & 0 & \\frac{1}{2} \\\\ 0 & 0 & 0 & 0 & - \\frac{1}{2} & 0 \\\\ 0 & 0 & 0 & 0 & 0 & 0 \\\\ 0 & 0 & 0 & 0 & 0 & 0 \\\\ 0 & - \\frac{1}{2} & 0 & 0 & 0 & 0 \\\\ \\frac{1}{2} & 0 & 0 & 0 & 0 & 0 \\end{pmatrix}$"
      ],
      "text/plain": [
       "<IPython.core.display.Math object>"
      ]
     },
     "metadata": {},
     "output_type": "display_data"
    },
    {
     "data": {
      "text/latex": [
       "$\\displaystyle \\mathbb{M}_{5,0}^{(a,E_{g})} = \\begin{pmatrix} 0 & 0 & 0 & - \\frac{i}{2} & 0 & 0 \\\\ 0 & 0 & - \\frac{i}{2} & 0 & 0 & 0 \\\\ 0 & \\frac{i}{2} & 0 & 0 & 0 & 0 \\\\ \\frac{i}{2} & 0 & 0 & 0 & 0 & 0 \\\\ 0 & 0 & 0 & 0 & 0 & 0 \\\\ 0 & 0 & 0 & 0 & 0 & 0 \\end{pmatrix}$"
      ],
      "text/plain": [
       "<IPython.core.display.Math object>"
      ]
     },
     "metadata": {},
     "output_type": "display_data"
    },
    {
     "data": {
      "text/latex": [
       "$\\displaystyle \\mathbb{M}_{5,1}^{(a,E_{g})} = \\begin{pmatrix} 0 & 0 & 0 & 0 & 0 & \\frac{i}{2} \\\\ 0 & 0 & 0 & 0 & \\frac{i}{2} & 0 \\\\ 0 & 0 & 0 & 0 & 0 & 0 \\\\ 0 & 0 & 0 & 0 & 0 & 0 \\\\ 0 & - \\frac{i}{2} & 0 & 0 & 0 & 0 \\\\ - \\frac{i}{2} & 0 & 0 & 0 & 0 & 0 \\end{pmatrix}$"
      ],
      "text/plain": [
       "<IPython.core.display.Math object>"
      ]
     },
     "metadata": {},
     "output_type": "display_data"
    },
    {
     "name": "stdout",
     "output_type": "stream",
     "text": [
      "--- (1, 1): (16 active atomic multipoles) ---\n"
     ]
    },
    {
     "data": {
      "text/latex": [
       "$\\displaystyle \\mathbb{Q}_{0}^{(a,A_{1g})} = \\begin{pmatrix} 0 & 0 & 0 & 0 & 0 & 0 \\\\ 0 & 0 & 0 & 0 & 0 & 0 \\\\ 0 & 0 & \\frac{1}{2} & 0 & 0 & 0 \\\\ 0 & 0 & 0 & \\frac{1}{2} & 0 & 0 \\\\ 0 & 0 & 0 & 0 & \\frac{1}{2} & 0 \\\\ 0 & 0 & 0 & 0 & 0 & \\frac{1}{2} \\end{pmatrix}$"
      ],
      "text/plain": [
       "<IPython.core.display.Math object>"
      ]
     },
     "metadata": {},
     "output_type": "display_data"
    },
    {
     "data": {
      "text/latex": [
       "$\\displaystyle \\mathbb{Q}_{2,0}^{(a,E_{g})} = \\begin{pmatrix} 0 & 0 & 0 & 0 & 0 & 0 \\\\ 0 & 0 & 0 & 0 & 0 & 0 \\\\ 0 & 0 & - \\frac{1}{2} & 0 & 0 & 0 \\\\ 0 & 0 & 0 & - \\frac{1}{2} & 0 & 0 \\\\ 0 & 0 & 0 & 0 & \\frac{1}{2} & 0 \\\\ 0 & 0 & 0 & 0 & 0 & \\frac{1}{2} \\end{pmatrix}$"
      ],
      "text/plain": [
       "<IPython.core.display.Math object>"
      ]
     },
     "metadata": {},
     "output_type": "display_data"
    },
    {
     "data": {
      "text/latex": [
       "$\\displaystyle \\mathbb{Q}_{2,1}^{(a,E_{g})} = \\begin{pmatrix} 0 & 0 & 0 & 0 & 0 & 0 \\\\ 0 & 0 & 0 & 0 & 0 & 0 \\\\ 0 & 0 & 0 & 0 & - \\frac{1}{2} & 0 \\\\ 0 & 0 & 0 & 0 & 0 & - \\frac{1}{2} \\\\ 0 & 0 & - \\frac{1}{2} & 0 & 0 & 0 \\\\ 0 & 0 & 0 & - \\frac{1}{2} & 0 & 0 \\end{pmatrix}$"
      ],
      "text/plain": [
       "<IPython.core.display.Math object>"
      ]
     },
     "metadata": {},
     "output_type": "display_data"
    },
    {
     "data": {
      "text/latex": [
       "$\\displaystyle \\mathbb{Q}_{2,0}^{(a,T_{2g})} = \\begin{pmatrix} 0 & 0 & 0 & 0 & 0 & 0 \\\\ 0 & 0 & 0 & 0 & 0 & 0 \\\\ 0 & 0 & 0 & 0 & 0 & \\frac{i}{2} \\\\ 0 & 0 & 0 & 0 & \\frac{i}{2} & 0 \\\\ 0 & 0 & 0 & - \\frac{i}{2} & 0 & 0 \\\\ 0 & 0 & - \\frac{i}{2} & 0 & 0 & 0 \\end{pmatrix}$"
      ],
      "text/plain": [
       "<IPython.core.display.Math object>"
      ]
     },
     "metadata": {},
     "output_type": "display_data"
    },
    {
     "data": {
      "text/latex": [
       "$\\displaystyle \\mathbb{Q}_{2,1}^{(a,T_{2g})} = \\begin{pmatrix} 0 & 0 & 0 & 0 & 0 & 0 \\\\ 0 & 0 & 0 & 0 & 0 & 0 \\\\ 0 & 0 & 0 & 0 & 0 & \\frac{1}{2} \\\\ 0 & 0 & 0 & 0 & - \\frac{1}{2} & 0 \\\\ 0 & 0 & 0 & - \\frac{1}{2} & 0 & 0 \\\\ 0 & 0 & \\frac{1}{2} & 0 & 0 & 0 \\end{pmatrix}$"
      ],
      "text/plain": [
       "<IPython.core.display.Math object>"
      ]
     },
     "metadata": {},
     "output_type": "display_data"
    },
    {
     "data": {
      "text/latex": [
       "$\\displaystyle \\mathbb{Q}_{2,2}^{(a,T_{2g})} = \\begin{pmatrix} 0 & 0 & 0 & 0 & 0 & 0 \\\\ 0 & 0 & 0 & 0 & 0 & 0 \\\\ 0 & 0 & 0 & 0 & \\frac{i}{2} & 0 \\\\ 0 & 0 & 0 & 0 & 0 & - \\frac{i}{2} \\\\ 0 & 0 & - \\frac{i}{2} & 0 & 0 & 0 \\\\ 0 & 0 & 0 & \\frac{i}{2} & 0 & 0 \\end{pmatrix}$"
      ],
      "text/plain": [
       "<IPython.core.display.Math object>"
      ]
     },
     "metadata": {},
     "output_type": "display_data"
    },
    {
     "data": {
      "text/latex": [
       "$\\displaystyle \\mathbb{M}_{1,0}^{(a,T_{1g})} = \\begin{pmatrix} 0 & 0 & 0 & 0 & 0 & 0 \\\\ 0 & 0 & 0 & 0 & 0 & 0 \\\\ 0 & 0 & 0 & \\frac{\\sqrt{65}}{26} & 0 & \\frac{\\sqrt{195}}{65} \\\\ 0 & 0 & \\frac{\\sqrt{65}}{26} & 0 & \\frac{\\sqrt{195}}{65} & 0 \\\\ 0 & 0 & 0 & \\frac{\\sqrt{195}}{65} & 0 & \\frac{9 \\sqrt{65}}{130} \\\\ 0 & 0 & \\frac{\\sqrt{195}}{65} & 0 & \\frac{9 \\sqrt{65}}{130} & 0 \\end{pmatrix}$"
      ],
      "text/plain": [
       "<IPython.core.display.Math object>"
      ]
     },
     "metadata": {},
     "output_type": "display_data"
    },
    {
     "data": {
      "text/latex": [
       "$\\displaystyle \\mathbb{M}_{1,1}^{(a,T_{1g})} = \\begin{pmatrix} 0 & 0 & 0 & 0 & 0 & 0 \\\\ 0 & 0 & 0 & 0 & 0 & 0 \\\\ 0 & 0 & 0 & - \\frac{\\sqrt{65} i}{26} & 0 & \\frac{\\sqrt{195} i}{65} \\\\ 0 & 0 & \\frac{\\sqrt{65} i}{26} & 0 & - \\frac{\\sqrt{195} i}{65} & 0 \\\\ 0 & 0 & 0 & \\frac{\\sqrt{195} i}{65} & 0 & - \\frac{9 \\sqrt{65} i}{130} \\\\ 0 & 0 & - \\frac{\\sqrt{195} i}{65} & 0 & \\frac{9 \\sqrt{65} i}{130} & 0 \\end{pmatrix}$"
      ],
      "text/plain": [
       "<IPython.core.display.Math object>"
      ]
     },
     "metadata": {},
     "output_type": "display_data"
    },
    {
     "data": {
      "text/latex": [
       "$\\displaystyle \\mathbb{M}_{1,2}^{(a,T_{1g})} = \\begin{pmatrix} 0 & 0 & 0 & 0 & 0 & 0 \\\\ 0 & 0 & 0 & 0 & 0 & 0 \\\\ 0 & 0 & \\frac{11 \\sqrt{65}}{130} & 0 & 0 & 0 \\\\ 0 & 0 & 0 & - \\frac{11 \\sqrt{65}}{130} & 0 & 0 \\\\ 0 & 0 & 0 & 0 & \\frac{3 \\sqrt{65}}{130} & 0 \\\\ 0 & 0 & 0 & 0 & 0 & - \\frac{3 \\sqrt{65}}{130} \\end{pmatrix}$"
      ],
      "text/plain": [
       "<IPython.core.display.Math object>"
      ]
     },
     "metadata": {},
     "output_type": "display_data"
    },
    {
     "data": {
      "text/latex": [
       "$\\displaystyle \\mathbb{M}_{3,0}^{(a,T_{1g})} = \\begin{pmatrix} 0 & 0 & 0 & 0 & 0 & 0 \\\\ 0 & 0 & 0 & 0 & 0 & 0 \\\\ 0 & 0 & 0 & \\frac{3 \\sqrt{65}}{52} & 0 & - \\frac{7 \\sqrt{195}}{260} \\\\ 0 & 0 & \\frac{3 \\sqrt{65}}{52} & 0 & - \\frac{7 \\sqrt{195}}{260} & 0 \\\\ 0 & 0 & 0 & - \\frac{7 \\sqrt{195}}{260} & 0 & \\frac{\\sqrt{65}}{260} \\\\ 0 & 0 & - \\frac{7 \\sqrt{195}}{260} & 0 & \\frac{\\sqrt{65}}{260} & 0 \\end{pmatrix}$"
      ],
      "text/plain": [
       "<IPython.core.display.Math object>"
      ]
     },
     "metadata": {},
     "output_type": "display_data"
    },
    {
     "data": {
      "text/latex": [
       "$\\displaystyle \\mathbb{M}_{3,1}^{(a,T_{1g})} = \\begin{pmatrix} 0 & 0 & 0 & 0 & 0 & 0 \\\\ 0 & 0 & 0 & 0 & 0 & 0 \\\\ 0 & 0 & 0 & - \\frac{3 \\sqrt{65} i}{52} & 0 & - \\frac{7 \\sqrt{195} i}{260} \\\\ 0 & 0 & \\frac{3 \\sqrt{65} i}{52} & 0 & \\frac{7 \\sqrt{195} i}{260} & 0 \\\\ 0 & 0 & 0 & - \\frac{7 \\sqrt{195} i}{260} & 0 & - \\frac{\\sqrt{65} i}{260} \\\\ 0 & 0 & \\frac{7 \\sqrt{195} i}{260} & 0 & \\frac{\\sqrt{65} i}{260} & 0 \\end{pmatrix}$"
      ],
      "text/plain": [
       "<IPython.core.display.Math object>"
      ]
     },
     "metadata": {},
     "output_type": "display_data"
    },
    {
     "data": {
      "text/latex": [
       "$\\displaystyle \\mathbb{M}_{3,2}^{(a,T_{1g})} = \\begin{pmatrix} 0 & 0 & 0 & 0 & 0 & 0 \\\\ 0 & 0 & 0 & 0 & 0 & 0 \\\\ 0 & 0 & - \\frac{3 \\sqrt{65}}{130} & 0 & 0 & 0 \\\\ 0 & 0 & 0 & \\frac{3 \\sqrt{65}}{130} & 0 & 0 \\\\ 0 & 0 & 0 & 0 & \\frac{11 \\sqrt{65}}{130} & 0 \\\\ 0 & 0 & 0 & 0 & 0 & - \\frac{11 \\sqrt{65}}{130} \\end{pmatrix}$"
      ],
      "text/plain": [
       "<IPython.core.display.Math object>"
      ]
     },
     "metadata": {},
     "output_type": "display_data"
    },
    {
     "data": {
      "text/latex": [
       "$\\displaystyle \\mathbb{M}_{3}^{(a,A_{2g})} = \\begin{pmatrix} 0 & 0 & 0 & 0 & 0 & 0 \\\\ 0 & 0 & 0 & 0 & 0 & 0 \\\\ 0 & 0 & 0 & 0 & \\frac{i}{2} & 0 \\\\ 0 & 0 & 0 & 0 & 0 & \\frac{i}{2} \\\\ 0 & 0 & - \\frac{i}{2} & 0 & 0 & 0 \\\\ 0 & 0 & 0 & - \\frac{i}{2} & 0 & 0 \\end{pmatrix}$"
      ],
      "text/plain": [
       "<IPython.core.display.Math object>"
      ]
     },
     "metadata": {},
     "output_type": "display_data"
    },
    {
     "data": {
      "text/latex": [
       "$\\displaystyle \\mathbb{M}_{3,0}^{(a,T_{2g})} = \\begin{pmatrix} 0 & 0 & 0 & 0 & 0 & 0 \\\\ 0 & 0 & 0 & 0 & 0 & 0 \\\\ 0 & 0 & 0 & \\frac{\\sqrt{3}}{4} & 0 & \\frac{1}{4} \\\\ 0 & 0 & \\frac{\\sqrt{3}}{4} & 0 & \\frac{1}{4} & 0 \\\\ 0 & 0 & 0 & \\frac{1}{4} & 0 & - \\frac{\\sqrt{3}}{4} \\\\ 0 & 0 & \\frac{1}{4} & 0 & - \\frac{\\sqrt{3}}{4} & 0 \\end{pmatrix}$"
      ],
      "text/plain": [
       "<IPython.core.display.Math object>"
      ]
     },
     "metadata": {},
     "output_type": "display_data"
    },
    {
     "data": {
      "text/latex": [
       "$\\displaystyle \\mathbb{M}_{3,1}^{(a,T_{2g})} = \\begin{pmatrix} 0 & 0 & 0 & 0 & 0 & 0 \\\\ 0 & 0 & 0 & 0 & 0 & 0 \\\\ 0 & 0 & 0 & \\frac{\\sqrt{3} i}{4} & 0 & - \\frac{i}{4} \\\\ 0 & 0 & - \\frac{\\sqrt{3} i}{4} & 0 & \\frac{i}{4} & 0 \\\\ 0 & 0 & 0 & - \\frac{i}{4} & 0 & - \\frac{\\sqrt{3} i}{4} \\\\ 0 & 0 & \\frac{i}{4} & 0 & \\frac{\\sqrt{3} i}{4} & 0 \\end{pmatrix}$"
      ],
      "text/plain": [
       "<IPython.core.display.Math object>"
      ]
     },
     "metadata": {},
     "output_type": "display_data"
    },
    {
     "data": {
      "text/latex": [
       "$\\displaystyle \\mathbb{M}_{3,2}^{(a,T_{2g})} = \\begin{pmatrix} 0 & 0 & 0 & 0 & 0 & 0 \\\\ 0 & 0 & 0 & 0 & 0 & 0 \\\\ 0 & 0 & 0 & 0 & - \\frac{1}{2} & 0 \\\\ 0 & 0 & 0 & 0 & 0 & \\frac{1}{2} \\\\ 0 & 0 & - \\frac{1}{2} & 0 & 0 & 0 \\\\ 0 & 0 & 0 & \\frac{1}{2} & 0 & 0 \\end{pmatrix}$"
      ],
      "text/plain": [
       "<IPython.core.display.Math object>"
      ]
     },
     "metadata": {},
     "output_type": "display_data"
    }
   ],
   "source": [
    "from IPython.display import display, Math\n",
    "from multipie.group.point_group import PointGroup\n",
    "from gcoreutils.nsarray import NSArray\n",
    "\n",
    "\n",
    "# ==================================================\n",
    "def multipole_cef():\n",
    "    pg = PointGroup(\"Oh\")\n",
    "    bra_list = ket_list = [\n",
    "        \"(5/2,5/2,3)\",\n",
    "        \"(5/2,3/2,3)\",\n",
    "        \"(5/2,1/2,3)\",\n",
    "        \"(5/2,-1/2,3)\",\n",
    "        \"(5/2,-3/2,3)\",\n",
    "        \"(5/2,-5/2,3)\",\n",
    "    ]\n",
    "\n",
    "    # <gamma|m> (G7,G8|+5/2,+3/2,+1/2,-1/2,-3/2,-5/2).\n",
    "    U = \"[[0,1/sqrt(6),sqrt(5/6),0,0,0],[-sqrt(5/6),0,0,1/sqrt(6),0,0],[0,0,0,0,1,0],[0,0,0,0,0,1],[0,-sqrt(5/6),1/sqrt(6),0,0,0],[1/sqrt(6),0,0,sqrt(5/6),0,0]]\"\n",
    "    U = NSArray(U)\n",
    "\n",
    "    G7 = U[:, :2]\n",
    "    G8 = U[:, 2:]\n",
    "\n",
    "    atomic_samb = pg.atomic_samb(bra_list, ket_list, spinful=True, u_matrix=[G7, G8])\n",
    "    print(f\"=== (0)Γ7, (1)Γ8 in (j=5/2, l=3) ===\")\n",
    "    for (brai, keti), d in atomic_samb.items():\n",
    "        print(f\"--- {(brai, keti)}: ({len(d)} active atomic multipoles) ---\")\n",
    "        for tag, mat in d.items():\n",
    "            display(Math(f\"{tag.latex()} = {mat.latex()}\"))\n",
    "\n",
    "\n",
    "\n",
    "# ================================================== main\n",
    "multipole_cef()\n"
   ]
  }
 ],
 "metadata": {
  "kernelspec": {
   "display_name": "Python 3",
   "language": "python",
   "name": "python3"
  },
  "language_info": {
   "codemirror_mode": {
    "name": "ipython",
    "version": 3
   },
   "file_extension": ".py",
   "mimetype": "text/x-python",
   "name": "python",
   "nbconvert_exporter": "python",
   "pygments_lexer": "ipython3",
   "version": "3.11.6"
  }
 },
 "nbformat": 4,
 "nbformat_minor": 2
}